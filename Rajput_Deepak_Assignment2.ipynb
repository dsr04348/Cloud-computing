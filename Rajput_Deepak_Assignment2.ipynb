{
 "cells": [
  {
   "cell_type": "code",
   "execution_count": 15,
   "id": "66bf31d8-b8af-4a83-8314-65309d6520fa",
   "metadata": {},
   "outputs": [],
   "source": [
    "import numpy as np\n",
    "import pandas as pd\n",
    "import matplotlib.pyplot as plt\n",
    "from matplotlib.pyplot import subplots"
   ]
  },
  {
   "cell_type": "code",
   "execution_count": 2,
   "id": "75541f1a-98b9-4623-b31c-c8badd71c1ce",
   "metadata": {},
   "outputs": [],
   "source": [
    "import statsmodels.api as sm"
   ]
  },
  {
   "cell_type": "code",
   "execution_count": 12,
   "id": "f0a243cf-1288-40e0-bfc2-6e8d659a1cd6",
   "metadata": {},
   "outputs": [],
   "source": [
    "from statsmodels.stats.outliers_influence \\\n",
    "     import variance_inflation_factor as VIF\n",
    "from statsmodels.stats.anova import anova_lm\n",
    "from statsmodels.graphics.regressionplots import plot_leverage_resid2\n",
    "from statsmodels.graphics.gofplots import ProbPlot"
   ]
  },
  {
   "cell_type": "code",
   "execution_count": 4,
   "id": "2a287051-cc5d-4312-a961-94b34e476f7f",
   "metadata": {},
   "outputs": [],
   "source": [
    "from ISLP import load_data\n",
    "from ISLP.models import (ModelSpec as MS,\n",
    "                         summarize,\n",
    "                         poly)"
   ]
  },
  {
   "cell_type": "code",
   "execution_count": 5,
   "id": "9f75014f-d868-4121-9351-8e4c40037174",
   "metadata": {},
   "outputs": [
    {
     "data": {
      "text/plain": [
       "Index(['Sales', 'CompPrice', 'Income', 'Advertising', 'Population', 'Price',\n",
       "       'ShelveLoc', 'Age', 'Education', 'Urban', 'US'],\n",
       "      dtype='object')"
      ]
     },
     "execution_count": 5,
     "metadata": {},
     "output_type": "execute_result"
    }
   ],
   "source": [
    "Carseats = load_data(\"Carseats\")\n",
    "Carseats.columns"
   ]
  },
  {
   "cell_type": "code",
   "execution_count": 6,
   "id": "6fb4b147-f883-4333-9fa8-0dfb49ed5620",
   "metadata": {},
   "outputs": [
    {
     "data": {
      "text/html": [
       "<div>\n",
       "<style scoped>\n",
       "    .dataframe tbody tr th:only-of-type {\n",
       "        vertical-align: middle;\n",
       "    }\n",
       "\n",
       "    .dataframe tbody tr th {\n",
       "        vertical-align: top;\n",
       "    }\n",
       "\n",
       "    .dataframe thead th {\n",
       "        text-align: right;\n",
       "    }\n",
       "</style>\n",
       "<table border=\"1\" class=\"dataframe\">\n",
       "  <thead>\n",
       "    <tr style=\"text-align: right;\">\n",
       "      <th></th>\n",
       "      <th>Sales</th>\n",
       "      <th>CompPrice</th>\n",
       "      <th>Income</th>\n",
       "      <th>Advertising</th>\n",
       "      <th>Population</th>\n",
       "      <th>Price</th>\n",
       "      <th>ShelveLoc</th>\n",
       "      <th>Age</th>\n",
       "      <th>Education</th>\n",
       "      <th>Urban</th>\n",
       "      <th>US</th>\n",
       "    </tr>\n",
       "  </thead>\n",
       "  <tbody>\n",
       "    <tr>\n",
       "      <th>0</th>\n",
       "      <td>9.50</td>\n",
       "      <td>138</td>\n",
       "      <td>73</td>\n",
       "      <td>11</td>\n",
       "      <td>276</td>\n",
       "      <td>120</td>\n",
       "      <td>Bad</td>\n",
       "      <td>42</td>\n",
       "      <td>17</td>\n",
       "      <td>Yes</td>\n",
       "      <td>Yes</td>\n",
       "    </tr>\n",
       "    <tr>\n",
       "      <th>1</th>\n",
       "      <td>11.22</td>\n",
       "      <td>111</td>\n",
       "      <td>48</td>\n",
       "      <td>16</td>\n",
       "      <td>260</td>\n",
       "      <td>83</td>\n",
       "      <td>Good</td>\n",
       "      <td>65</td>\n",
       "      <td>10</td>\n",
       "      <td>Yes</td>\n",
       "      <td>Yes</td>\n",
       "    </tr>\n",
       "    <tr>\n",
       "      <th>2</th>\n",
       "      <td>10.06</td>\n",
       "      <td>113</td>\n",
       "      <td>35</td>\n",
       "      <td>10</td>\n",
       "      <td>269</td>\n",
       "      <td>80</td>\n",
       "      <td>Medium</td>\n",
       "      <td>59</td>\n",
       "      <td>12</td>\n",
       "      <td>Yes</td>\n",
       "      <td>Yes</td>\n",
       "    </tr>\n",
       "    <tr>\n",
       "      <th>3</th>\n",
       "      <td>7.40</td>\n",
       "      <td>117</td>\n",
       "      <td>100</td>\n",
       "      <td>4</td>\n",
       "      <td>466</td>\n",
       "      <td>97</td>\n",
       "      <td>Medium</td>\n",
       "      <td>55</td>\n",
       "      <td>14</td>\n",
       "      <td>Yes</td>\n",
       "      <td>Yes</td>\n",
       "    </tr>\n",
       "    <tr>\n",
       "      <th>4</th>\n",
       "      <td>4.15</td>\n",
       "      <td>141</td>\n",
       "      <td>64</td>\n",
       "      <td>3</td>\n",
       "      <td>340</td>\n",
       "      <td>128</td>\n",
       "      <td>Bad</td>\n",
       "      <td>38</td>\n",
       "      <td>13</td>\n",
       "      <td>Yes</td>\n",
       "      <td>No</td>\n",
       "    </tr>\n",
       "    <tr>\n",
       "      <th>...</th>\n",
       "      <td>...</td>\n",
       "      <td>...</td>\n",
       "      <td>...</td>\n",
       "      <td>...</td>\n",
       "      <td>...</td>\n",
       "      <td>...</td>\n",
       "      <td>...</td>\n",
       "      <td>...</td>\n",
       "      <td>...</td>\n",
       "      <td>...</td>\n",
       "      <td>...</td>\n",
       "    </tr>\n",
       "    <tr>\n",
       "      <th>395</th>\n",
       "      <td>12.57</td>\n",
       "      <td>138</td>\n",
       "      <td>108</td>\n",
       "      <td>17</td>\n",
       "      <td>203</td>\n",
       "      <td>128</td>\n",
       "      <td>Good</td>\n",
       "      <td>33</td>\n",
       "      <td>14</td>\n",
       "      <td>Yes</td>\n",
       "      <td>Yes</td>\n",
       "    </tr>\n",
       "    <tr>\n",
       "      <th>396</th>\n",
       "      <td>6.14</td>\n",
       "      <td>139</td>\n",
       "      <td>23</td>\n",
       "      <td>3</td>\n",
       "      <td>37</td>\n",
       "      <td>120</td>\n",
       "      <td>Medium</td>\n",
       "      <td>55</td>\n",
       "      <td>11</td>\n",
       "      <td>No</td>\n",
       "      <td>Yes</td>\n",
       "    </tr>\n",
       "    <tr>\n",
       "      <th>397</th>\n",
       "      <td>7.41</td>\n",
       "      <td>162</td>\n",
       "      <td>26</td>\n",
       "      <td>12</td>\n",
       "      <td>368</td>\n",
       "      <td>159</td>\n",
       "      <td>Medium</td>\n",
       "      <td>40</td>\n",
       "      <td>18</td>\n",
       "      <td>Yes</td>\n",
       "      <td>Yes</td>\n",
       "    </tr>\n",
       "    <tr>\n",
       "      <th>398</th>\n",
       "      <td>5.94</td>\n",
       "      <td>100</td>\n",
       "      <td>79</td>\n",
       "      <td>7</td>\n",
       "      <td>284</td>\n",
       "      <td>95</td>\n",
       "      <td>Bad</td>\n",
       "      <td>50</td>\n",
       "      <td>12</td>\n",
       "      <td>Yes</td>\n",
       "      <td>Yes</td>\n",
       "    </tr>\n",
       "    <tr>\n",
       "      <th>399</th>\n",
       "      <td>9.71</td>\n",
       "      <td>134</td>\n",
       "      <td>37</td>\n",
       "      <td>0</td>\n",
       "      <td>27</td>\n",
       "      <td>120</td>\n",
       "      <td>Good</td>\n",
       "      <td>49</td>\n",
       "      <td>16</td>\n",
       "      <td>Yes</td>\n",
       "      <td>Yes</td>\n",
       "    </tr>\n",
       "  </tbody>\n",
       "</table>\n",
       "<p>400 rows × 11 columns</p>\n",
       "</div>"
      ],
      "text/plain": [
       "     Sales  CompPrice  Income  Advertising  Population  Price ShelveLoc  Age  \\\n",
       "0     9.50        138      73           11         276    120       Bad   42   \n",
       "1    11.22        111      48           16         260     83      Good   65   \n",
       "2    10.06        113      35           10         269     80    Medium   59   \n",
       "3     7.40        117     100            4         466     97    Medium   55   \n",
       "4     4.15        141      64            3         340    128       Bad   38   \n",
       "..     ...        ...     ...          ...         ...    ...       ...  ...   \n",
       "395  12.57        138     108           17         203    128      Good   33   \n",
       "396   6.14        139      23            3          37    120    Medium   55   \n",
       "397   7.41        162      26           12         368    159    Medium   40   \n",
       "398   5.94        100      79            7         284     95       Bad   50   \n",
       "399   9.71        134      37            0          27    120      Good   49   \n",
       "\n",
       "     Education Urban   US  \n",
       "0           17   Yes  Yes  \n",
       "1           10   Yes  Yes  \n",
       "2           12   Yes  Yes  \n",
       "3           14   Yes  Yes  \n",
       "4           13   Yes   No  \n",
       "..         ...   ...  ...  \n",
       "395         14   Yes  Yes  \n",
       "396         11    No  Yes  \n",
       "397         18   Yes  Yes  \n",
       "398         12   Yes  Yes  \n",
       "399         16   Yes  Yes  \n",
       "\n",
       "[400 rows x 11 columns]"
      ]
     },
     "execution_count": 6,
     "metadata": {},
     "output_type": "execute_result"
    }
   ],
   "source": [
    "##data insights\n",
    "Carseats"
   ]
  },
  {
   "cell_type": "code",
   "execution_count": 7,
   "id": "9d677f05-0192-4b18-9a3f-9d74f75dad86",
   "metadata": {},
   "outputs": [
    {
     "data": {
      "text/html": [
       "<div>\n",
       "<style scoped>\n",
       "    .dataframe tbody tr th:only-of-type {\n",
       "        vertical-align: middle;\n",
       "    }\n",
       "\n",
       "    .dataframe tbody tr th {\n",
       "        vertical-align: top;\n",
       "    }\n",
       "\n",
       "    .dataframe thead th {\n",
       "        text-align: right;\n",
       "    }\n",
       "</style>\n",
       "<table border=\"1\" class=\"dataframe\">\n",
       "  <thead>\n",
       "    <tr style=\"text-align: right;\">\n",
       "      <th></th>\n",
       "      <th>coef</th>\n",
       "      <th>std err</th>\n",
       "      <th>t</th>\n",
       "      <th>P&gt;|t|</th>\n",
       "    </tr>\n",
       "  </thead>\n",
       "  <tbody>\n",
       "    <tr>\n",
       "      <th>intercept</th>\n",
       "      <td>13.0435</td>\n",
       "      <td>0.651</td>\n",
       "      <td>20.036</td>\n",
       "      <td>0.000</td>\n",
       "    </tr>\n",
       "    <tr>\n",
       "      <th>Price</th>\n",
       "      <td>-0.0545</td>\n",
       "      <td>0.005</td>\n",
       "      <td>-10.389</td>\n",
       "      <td>0.000</td>\n",
       "    </tr>\n",
       "    <tr>\n",
       "      <th>Urban[Yes]</th>\n",
       "      <td>-0.0219</td>\n",
       "      <td>0.272</td>\n",
       "      <td>-0.081</td>\n",
       "      <td>0.936</td>\n",
       "    </tr>\n",
       "    <tr>\n",
       "      <th>US[Yes]</th>\n",
       "      <td>1.2006</td>\n",
       "      <td>0.259</td>\n",
       "      <td>4.635</td>\n",
       "      <td>0.000</td>\n",
       "    </tr>\n",
       "  </tbody>\n",
       "</table>\n",
       "</div>"
      ],
      "text/plain": [
       "               coef  std err       t  P>|t|\n",
       "intercept   13.0435    0.651  20.036  0.000\n",
       "Price       -0.0545    0.005 -10.389  0.000\n",
       "Urban[Yes]  -0.0219    0.272  -0.081  0.936\n",
       "US[Yes]      1.2006    0.259   4.635  0.000"
      ]
     },
     "execution_count": 7,
     "metadata": {},
     "output_type": "execute_result"
    }
   ],
   "source": [
    "##model\n",
    "y = Carseats['Sales']\n",
    "X = MS(['Price', 'Urban', 'US']).fit_transform(Carseats)\n",
    "model1 = sm.OLS(y, X)\n",
    "results1 = model1.fit()\n",
    "summarize(results1)"
   ]
  },
  {
   "cell_type": "code",
   "execution_count": 8,
   "id": "2d79cd07-5bca-429f-97c9-c4f4cf4b62fa",
   "metadata": {},
   "outputs": [
    {
     "name": "stdout",
     "output_type": "stream",
     "text": [
      "                            OLS Regression Results                            \n",
      "==============================================================================\n",
      "Dep. Variable:                  Sales   R-squared:                       0.239\n",
      "Model:                            OLS   Adj. R-squared:                  0.234\n",
      "Method:                 Least Squares   F-statistic:                     41.52\n",
      "Date:                Wed, 27 Sep 2023   Prob (F-statistic):           2.39e-23\n",
      "Time:                        21:07:59   Log-Likelihood:                -927.66\n",
      "No. Observations:                 400   AIC:                             1863.\n",
      "Df Residuals:                     396   BIC:                             1879.\n",
      "Df Model:                           3                                         \n",
      "Covariance Type:            nonrobust                                         \n",
      "==============================================================================\n",
      "                 coef    std err          t      P>|t|      [0.025      0.975]\n",
      "------------------------------------------------------------------------------\n",
      "intercept     13.0435      0.651     20.036      0.000      11.764      14.323\n",
      "Price         -0.0545      0.005    -10.389      0.000      -0.065      -0.044\n",
      "Urban[Yes]    -0.0219      0.272     -0.081      0.936      -0.556       0.512\n",
      "US[Yes]        1.2006      0.259      4.635      0.000       0.691       1.710\n",
      "==============================================================================\n",
      "Omnibus:                        0.676   Durbin-Watson:                   1.912\n",
      "Prob(Omnibus):                  0.713   Jarque-Bera (JB):                0.758\n",
      "Skew:                           0.093   Prob(JB):                        0.684\n",
      "Kurtosis:                       2.897   Cond. No.                         628.\n",
      "==============================================================================\n",
      "\n",
      "Notes:\n",
      "[1] Standard Errors assume that the covariance matrix of the errors is correctly specified.\n"
     ]
    }
   ],
   "source": [
    "print(results1.summary())"
   ]
  },
  {
   "cell_type": "code",
   "execution_count": 9,
   "id": "e38b79ab-c3c6-4ea6-a886-7abb3d3057bb",
   "metadata": {},
   "outputs": [
    {
     "data": {
      "text/html": [
       "<div>\n",
       "<style scoped>\n",
       "    .dataframe tbody tr th:only-of-type {\n",
       "        vertical-align: middle;\n",
       "    }\n",
       "\n",
       "    .dataframe tbody tr th {\n",
       "        vertical-align: top;\n",
       "    }\n",
       "\n",
       "    .dataframe thead th {\n",
       "        text-align: right;\n",
       "    }\n",
       "</style>\n",
       "<table border=\"1\" class=\"dataframe\">\n",
       "  <thead>\n",
       "    <tr style=\"text-align: right;\">\n",
       "      <th></th>\n",
       "      <th>coef</th>\n",
       "      <th>std err</th>\n",
       "      <th>t</th>\n",
       "      <th>P&gt;|t|</th>\n",
       "    </tr>\n",
       "  </thead>\n",
       "  <tbody>\n",
       "    <tr>\n",
       "      <th>intercept</th>\n",
       "      <td>13.0308</td>\n",
       "      <td>0.631</td>\n",
       "      <td>20.652</td>\n",
       "      <td>0.0</td>\n",
       "    </tr>\n",
       "    <tr>\n",
       "      <th>Price</th>\n",
       "      <td>-0.0545</td>\n",
       "      <td>0.005</td>\n",
       "      <td>-10.416</td>\n",
       "      <td>0.0</td>\n",
       "    </tr>\n",
       "    <tr>\n",
       "      <th>US[Yes]</th>\n",
       "      <td>1.1996</td>\n",
       "      <td>0.258</td>\n",
       "      <td>4.641</td>\n",
       "      <td>0.0</td>\n",
       "    </tr>\n",
       "  </tbody>\n",
       "</table>\n",
       "</div>"
      ],
      "text/plain": [
       "              coef  std err       t  P>|t|\n",
       "intercept  13.0308    0.631  20.652    0.0\n",
       "Price      -0.0545    0.005 -10.416    0.0\n",
       "US[Yes]     1.1996    0.258   4.641    0.0"
      ]
     },
     "execution_count": 9,
     "metadata": {},
     "output_type": "execute_result"
    }
   ],
   "source": [
    "##new model\n",
    "y = Carseats['Sales']\n",
    "X = MS(['Price', 'US']).fit_transform(Carseats)\n",
    "model2 = sm.OLS(y, X)\n",
    "results2 = model2.fit()\n",
    "summarize(results2)"
   ]
  },
  {
   "cell_type": "code",
   "execution_count": 10,
   "id": "a8e48f8a-400f-483c-9e84-289b71810225",
   "metadata": {},
   "outputs": [
    {
     "name": "stdout",
     "output_type": "stream",
     "text": [
      "                            OLS Regression Results                            \n",
      "==============================================================================\n",
      "Dep. Variable:                  Sales   R-squared:                       0.239\n",
      "Model:                            OLS   Adj. R-squared:                  0.235\n",
      "Method:                 Least Squares   F-statistic:                     62.43\n",
      "Date:                Wed, 27 Sep 2023   Prob (F-statistic):           2.66e-24\n",
      "Time:                        21:08:07   Log-Likelihood:                -927.66\n",
      "No. Observations:                 400   AIC:                             1861.\n",
      "Df Residuals:                     397   BIC:                             1873.\n",
      "Df Model:                           2                                         \n",
      "Covariance Type:            nonrobust                                         \n",
      "==============================================================================\n",
      "                 coef    std err          t      P>|t|      [0.025      0.975]\n",
      "------------------------------------------------------------------------------\n",
      "intercept     13.0308      0.631     20.652      0.000      11.790      14.271\n",
      "Price         -0.0545      0.005    -10.416      0.000      -0.065      -0.044\n",
      "US[Yes]        1.1996      0.258      4.641      0.000       0.692       1.708\n",
      "==============================================================================\n",
      "Omnibus:                        0.666   Durbin-Watson:                   1.912\n",
      "Prob(Omnibus):                  0.717   Jarque-Bera (JB):                0.749\n",
      "Skew:                           0.092   Prob(JB):                        0.688\n",
      "Kurtosis:                       2.895   Cond. No.                         607.\n",
      "==============================================================================\n",
      "\n",
      "Notes:\n",
      "[1] Standard Errors assume that the covariance matrix of the errors is correctly specified.\n"
     ]
    }
   ],
   "source": [
    "print(results2.summary())"
   ]
  },
  {
   "cell_type": "code",
   "execution_count": 11,
   "id": "9c77a8f9-128a-4529-98a2-2b75d1a947f7",
   "metadata": {},
   "outputs": [
    {
     "name": "stdout",
     "output_type": "stream",
     "text": [
      "95% confidence interval for Intercept: [ 11.7688; 14.2928] \n",
      "95% confidence interval for US: [ 0.6836; 1.7156] \n",
      "95% confidence interval for Price: [ -0.0645; -0.0445] \n"
     ]
    }
   ],
   "source": [
    "inter_coef = 13.0308\n",
    "inter_std_err = .631\n",
    "\n",
    "US_coef = 1.1996\n",
    "US_std_err = .258\n",
    "\n",
    "price_coef = -.0545\n",
    "price_std_err = .005\n",
    "\n",
    "print('95%% confidence interval for Intercept: [ %2.4f; %2.4f] ' % (inter_coef-2*inter_std_err, inter_coef+2*inter_std_err))\n",
    "print('95%% confidence interval for US: [ %2.4f; %2.4f] ' % (US_coef-2*US_std_err, US_coef+2*US_std_err))\n",
    "print('95%% confidence interval for Price: [ %2.4f; %2.4f] ' % (price_coef-2*price_std_err, price_coef+2*price_std_err))"
   ]
  },
  {
   "cell_type": "code",
   "execution_count": 19,
   "id": "432a3959-e68a-4e4a-9ee1-91194ab3d5d3",
   "metadata": {},
   "outputs": [
    {
     "data": {
      "image/png": "[encoded data removed]",
      "text/plain": [
       "<Figure size 800x600 with 1 Axes>"
      ]
     },
     "metadata": {},
     "output_type": "display_data"
    }
   ],
   "source": [
    "##to get residual plot\n",
    "residuals = results2.resid\n",
    "predicted_values = results2.predict(X)\n",
    "plt.figure(figsize=(8, 6))\n",
    "plt.scatter(predicted_values, residuals, alpha=0.5)\n",
    "plt.axhline(y=0, color='r', linestyle='--')\n",
    "plt.title('Residuals Plot')\n",
    "plt.xlabel('Predicted Values')\n",
    "plt.ylabel('Residuals')\n",
    "plt.grid(True)\n",
    "plt.show()"
   ]
  },
  {
   "cell_type": "code",
   "execution_count": 22,
   "id": "45696db4-35c3-493d-869a-035f9d0369b8",
   "metadata": {},
   "outputs": [
    {
     "data": {
      "image/png": "[encoded data removed]",
      "text/plain": [
       "<Figure size 600x400 with 1 Axes>"
      ]
     },
     "metadata": {},
     "output_type": "display_data"
    }
   ],
   "source": [
    "## residuals outliners\n",
    "plt.figure(figsize=(6, 4))\n",
    "plt.boxplot(residuals)\n",
    "plt.title('Box Plot of Residuals')\n",
    "plt.ylabel('Residuals')\n",
    "plt.ylabel('observations')\n",
    "plt.show()"
   ]
  },
  {
   "cell_type": "code",
   "execution_count": 21,
   "id": "d33780ab-1723-4e02-be41-285b30ef2dda",
   "metadata": {},
   "outputs": [
    {
     "data": {
      "image/png": "[encoded data removed]",
      "text/plain": [
       "<Figure size 600x400 with 1 Axes>"
      ]
     },
     "metadata": {},
     "output_type": "display_data"
    }
   ],
   "source": [
    "## check for outliners & leverage plot\n",
    "fitted_y = results2.fittedvalues\n",
    "normalized_resid = results2.get_influence().resid_studentized_internal\n",
    "absolute_sqrt_norm_resid = np.sqrt(np.abs(normalized_resid))\n",
    "absolute_resid = np.abs(residuals)\n",
    "leverage = results2.get_influence().hat_matrix_diag\n",
    "plt.figure(figsize=(6, 4))\n",
    "plt.scatter(leverage, residuals, alpha=0.5)\n",
    "plt.axhline(y=0, color='r', linestyle='--')\n",
    "plt.title('Residuals vs Leverage')\n",
    "plt.xlabel('Leverage')\n",
    "plt.ylabel('Residuals')\n",
    "plt.grid(True)\n",
    "plt.show()"
   ]
  },
  {
   "cell_type": "code",
   "execution_count": 29,
   "id": "d5a63953-537d-48fb-8c59-6b38ab7e42a4",
   "metadata": {},
   "outputs": [],
   "source": [
    "## chapter 3 problem 12\n",
    "from sklearn.linear_model import LinearRegression \n",
    "x = np.arange(100)\n",
    "y = np.random.normal(size=100)"
   ]
  },
  {
   "cell_type": "code",
   "execution_count": 30,
   "id": "1cf7111a-1510-4995-8f12-29e3cc54ffa5",
   "metadata": {},
   "outputs": [
    {
     "name": "stdout",
     "output_type": "stream",
     "text": [
      "[ 0  1  2  3  4  5  6  7  8  9 10 11 12 13 14 15 16 17 18 19 20 21 22 23\n",
      " 24 25 26 27 28 29 30 31 32 33 34 35 36 37 38 39 40 41 42 43 44 45 46 47\n",
      " 48 49 50 51 52 53 54 55 56 57 58 59 60 61 62 63 64 65 66 67 68 69 70 71\n",
      " 72 73 74 75 76 77 78 79 80 81 82 83 84 85 86 87 88 89 90 91 92 93 94 95\n",
      " 96 97 98 99]\n",
      "[-4.88181980e-01 -4.81998746e-03 -8.15887543e-01  8.34441074e-01\n",
      "  9.75737149e-01  1.63955497e-01 -7.92983337e-01  2.00584940e+00\n",
      " -6.75896917e-01  6.32449019e-01  9.86554830e-01 -3.76405114e-02\n",
      " -1.41927734e+00  2.16828281e-01 -1.01196799e+00  8.55131628e-01\n",
      "  1.79092292e+00 -6.52221420e-01  2.21915189e-01 -5.33394057e-01\n",
      "  9.31629336e-01  4.19267838e-01 -7.95536236e-01  1.15214089e+00\n",
      " -1.51552650e-01 -5.05272865e-01  1.09080519e+00 -2.49072946e-03\n",
      "  3.56303605e-01 -2.76006767e-01  4.99118581e-01  8.04910412e-01\n",
      " -2.57146473e-01  1.60140044e-01 -1.62868733e+00  1.63626803e+00\n",
      "  2.16129516e+00 -6.03027533e-02  1.18187796e+00  9.06824345e-01\n",
      " -3.73912616e-03 -4.23846053e-01 -3.21445773e-01  5.79513929e-01\n",
      " -5.87230445e-01 -6.35426761e-01  2.68477753e+00 -2.11132245e+00\n",
      "  1.10203833e-01 -1.34031406e+00 -4.70009822e-01  5.46716741e-01\n",
      "  1.61286688e-01  1.70011212e+00 -2.00393698e-01  1.22402688e+00\n",
      " -2.16389491e-01  1.71367823e+00 -1.01890590e+00 -2.78707686e-01\n",
      "  2.79940969e-01 -1.47326156e+00 -7.18400104e-02 -2.08894224e-01\n",
      "  1.50203921e+00 -4.40629730e-01  3.14389342e-01  6.67926258e-01\n",
      "  2.22548144e-01  2.39348810e+00 -7.24828713e-01  2.81581369e-01\n",
      " -6.23461484e-01 -5.08031683e-01 -7.05603364e-01  2.14366572e-01\n",
      "  2.47023260e-01 -1.43280423e+00  7.49928807e-01  1.04548035e+00\n",
      "  1.00867840e+00 -1.45790096e+00 -3.68333715e-01  1.31404935e-01\n",
      " -3.92751265e-01 -2.75349016e-01 -1.86748260e-01  1.69276271e+00\n",
      " -2.00675936e-01  6.72029592e-01 -6.85636442e-01  1.41098492e+00\n",
      " -7.22730255e-01 -7.20778966e-01  5.95272175e-01  1.08523636e+00\n",
      " -3.23834745e-01  1.05360186e+00 -1.02673519e+00 -8.22399331e-01]\n"
     ]
    }
   ],
   "source": [
    "## data insights\n",
    "print(x)\n",
    "print(y)"
   ]
  },
  {
   "cell_type": "code",
   "execution_count": 31,
   "id": "7f925aff-7b56-4661-8bb2-14d677849941",
   "metadata": {},
   "outputs": [],
   "source": [
    "x = x.reshape(np.shape(x)[0],1)\n",
    "y = y.reshape(np.shape(y)[0],1)"
   ]
  },
  {
   "cell_type": "code",
   "execution_count": 36,
   "id": "815b73b5-3b0a-4cc3-9f5d-a9ba94426740",
   "metadata": {},
   "outputs": [
    {
     "data": {
      "text/plain": [
       "array([[0.00153255]])"
      ]
     },
     "execution_count": 36,
     "metadata": {},
     "output_type": "execute_result"
    }
   ],
   "source": [
    "lin_regression = LinearRegression(fit_intercept=False)\n",
    "lin_regression.fit(x,y)\n",
    "lin_regression.coef_"
   ]
  },
  {
   "cell_type": "code",
   "execution_count": 37,
   "id": "ba0bddde-fd7e-4531-8b35-560279bf85b8",
   "metadata": {},
   "outputs": [
    {
     "data": {
      "text/plain": [
       "array([[5.57981941]])"
      ]
     },
     "execution_count": 37,
     "metadata": {},
     "output_type": "execute_result"
    }
   ],
   "source": [
    "lin_regression.fit(y,x)\n",
    "lin_regression.coef_"
   ]
  },
  {
   "cell_type": "code",
   "execution_count": 38,
   "id": "6743e8b5-ae67-4413-985b-5d593696fddf",
   "metadata": {},
   "outputs": [
    {
     "name": "stdout",
     "output_type": "stream",
     "text": [
      "[ 0  1  2  3  4  5  6  7  8  9 10 11 12 13 14 15 16 17 18 19 20 21 22 23\n",
      " 24 25 26 27 28 29 30 31 32 33 34 35 36 37 38 39 40 41 42 43 44 45 46 47\n",
      " 48 49 50 51 52 53 54 55 56 57 58 59 60 61 62 63 64 65 66 67 68 69 70 71\n",
      " 72 73 74 75 76 77 78 79 80 81 82 83 84 85 86 87 88 89 90 91 92 93 94 95\n",
      " 96 97 98 99]\n",
      "[64 71 79 80 62  3  4 89 36 99 83 42 50 67 20 38 94  8 66 95 78 35 82 31\n",
      " 84 97  9 24  2 88 13 98 93 77 32  5 10 30 12 33 51 85 45 72 18 63 91 81\n",
      " 17 75 40 27 92 53 49 70 69 65 56 52 61 39 14 68 46 21  6 87 41 15 55 34\n",
      " 28 11 58 25  0 73 29 26  7 43 96 47 57 76 48 16 54 60 44 90 59 74 22  1\n",
      " 23 37 19 86]\n"
     ]
    }
   ],
   "source": [
    "x = np.arange(100)\n",
    "y = np.random.permutation(x)\n",
    "print(x)\n",
    "print(y)"
   ]
  },
  {
   "cell_type": "code",
   "execution_count": 40,
   "id": "4d34ba69-0be4-424e-a628-fef03f8aee65",
   "metadata": {},
   "outputs": [
    {
     "data": {
      "text/plain": [
       "array([[0.70396833]])"
      ]
     },
     "execution_count": 40,
     "metadata": {},
     "output_type": "execute_result"
    }
   ],
   "source": [
    "x = x.reshape(np.shape(x)[0],1)\n",
    "y = y.reshape(np.shape(y)[0],1)\n",
    "lin_regression = LinearRegression(fit_intercept=False)\n",
    "lin_regression.fit(x,y)\n",
    "lin_regression.coef_"
   ]
  },
  {
   "cell_type": "code",
   "execution_count": 41,
   "id": "512ba16f-e2cd-484a-974b-be8685a4f36b",
   "metadata": {},
   "outputs": [
    {
     "data": {
      "text/plain": [
       "array([[0.70396833]])"
      ]
     },
     "execution_count": 41,
     "metadata": {},
     "output_type": "execute_result"
    }
   ],
   "source": [
    "lin_regression.fit(y,x)\n",
    "lin_regression.coef_"
   ]
  },
  {
   "cell_type": "code",
   "execution_count": 43,
   "id": "8a7a5af7-4ab8-42db-8873-72beb8dbd3db",
   "metadata": {},
   "outputs": [
    {
     "data": {
      "text/plain": [
       "(0.5180419176728237, 0.5219580823271763)"
      ]
     },
     "execution_count": 43,
     "metadata": {},
     "output_type": "execute_result"
    }
   ],
   "source": [
    "###99% confidence interval\n",
    "p=0.52\n",
    "z_star = 2.58\n",
    "SE = 0.024\n",
    "n = 1000\n",
    "Std_err_for_frac_population =  z_star * (SE / (n**0.5))\n",
    "Confidence_Interval_99_percent = (p - Std_err_for_frac_population, p + Std_err_for_frac_population)\n",
    "Confidence_Interval_99_percent"
   ]
  },
  {
   "cell_type": "code",
   "execution_count": null,
   "id": "45ecb397-7546-4961-bc36-eddc995912cc",
   "metadata": {},
   "outputs": [],
   "source": []
  }
 ],
 "metadata": {
  "kernelspec": {
   "display_name": "Python 3 (ipykernel)",
   "language": "python",
   "name": "python3"
  },
  "language_info": {
   "codemirror_mode": {
    "name": "ipython",
    "version": 3
   },
   "file_extension": ".py",
   "mimetype": "text/x-python",
   "name": "python",
   "nbconvert_exporter": "python",
   "pygments_lexer": "ipython3",
   "version": "3.10.9"
  }
 },
 "nbformat": 4,
 "nbformat_minor": 5
}
